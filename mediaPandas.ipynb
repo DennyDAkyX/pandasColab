{
  "nbformat": 4,
  "nbformat_minor": 0,
  "metadata": {
    "colab": {
      "provenance": [],
      "authorship_tag": "ABX9TyPb+1SkUSgLhBuNJJR7IUdk",
      "include_colab_link": true
    },
    "kernelspec": {
      "name": "python3",
      "display_name": "Python 3"
    },
    "language_info": {
      "name": "python"
    }
  },
  "cells": [
    {
      "cell_type": "markdown",
      "metadata": {
        "id": "view-in-github",
        "colab_type": "text"
      },
      "source": [
        "<a href=\"https://colab.research.google.com/github/DennyDAkyX/pandasColab/blob/main/mediaPandas.ipynb\" target=\"_parent\"><img src=\"https://colab.research.google.com/assets/colab-badge.svg\" alt=\"Open In Colab\"/></a>"
      ]
    },
    {
      "cell_type": "code",
      "execution_count": 16,
      "metadata": {
        "colab": {
          "base_uri": "https://localhost:8080/"
        },
        "id": "fyBBflPvQins",
        "outputId": "d99e275b-6201-48c5-cb1a-1e6d7e13f7aa"
      },
      "outputs": [
        {
          "output_type": "stream",
          "name": "stdout",
          "text": [
            "Requirement already satisfied: pandas in /usr/local/lib/python3.11/dist-packages (2.2.2)\n",
            "Requirement already satisfied: numpy>=1.23.2 in /usr/local/lib/python3.11/dist-packages (from pandas) (2.0.2)\n",
            "Requirement already satisfied: python-dateutil>=2.8.2 in /usr/local/lib/python3.11/dist-packages (from pandas) (2.8.2)\n",
            "Requirement already satisfied: pytz>=2020.1 in /usr/local/lib/python3.11/dist-packages (from pandas) (2025.2)\n",
            "Requirement already satisfied: tzdata>=2022.7 in /usr/local/lib/python3.11/dist-packages (from pandas) (2025.2)\n",
            "Requirement already satisfied: six>=1.5 in /usr/local/lib/python3.11/dist-packages (from python-dateutil>=2.8.2->pandas) (1.17.0)\n",
            "Requirement already satisfied: matplotlib in /usr/local/lib/python3.11/dist-packages (3.10.0)\n",
            "Requirement already satisfied: contourpy>=1.0.1 in /usr/local/lib/python3.11/dist-packages (from matplotlib) (1.3.1)\n",
            "Requirement already satisfied: cycler>=0.10 in /usr/local/lib/python3.11/dist-packages (from matplotlib) (0.12.1)\n",
            "Requirement already satisfied: fonttools>=4.22.0 in /usr/local/lib/python3.11/dist-packages (from matplotlib) (4.56.0)\n",
            "Requirement already satisfied: kiwisolver>=1.3.1 in /usr/local/lib/python3.11/dist-packages (from matplotlib) (1.4.8)\n",
            "Requirement already satisfied: numpy>=1.23 in /usr/local/lib/python3.11/dist-packages (from matplotlib) (2.0.2)\n",
            "Requirement already satisfied: packaging>=20.0 in /usr/local/lib/python3.11/dist-packages (from matplotlib) (24.2)\n",
            "Requirement already satisfied: pillow>=8 in /usr/local/lib/python3.11/dist-packages (from matplotlib) (11.1.0)\n",
            "Requirement already satisfied: pyparsing>=2.3.1 in /usr/local/lib/python3.11/dist-packages (from matplotlib) (3.2.3)\n",
            "Requirement already satisfied: python-dateutil>=2.7 in /usr/local/lib/python3.11/dist-packages (from matplotlib) (2.8.2)\n",
            "Requirement already satisfied: six>=1.5 in /usr/local/lib/python3.11/dist-packages (from python-dateutil>=2.7->matplotlib) (1.17.0)\n"
          ]
        }
      ],
      "source": [
        "!pip install pandas\n",
        "!pip install matplotlib\n",
        "import pandas as pd\n",
        "import matplotlib as mtb"
      ]
    },
    {
      "cell_type": "code",
      "source": [
        "dato = pd.read_csv(\"testpandas1.csv\")\n",
        "\n",
        "print(dato)"
      ],
      "metadata": {
        "colab": {
          "base_uri": "https://localhost:8080/"
        },
        "id": "Os9g4TeejRn4",
        "outputId": "9908e45b-4a09-484d-fa56-8e22817c8c6b"
      },
      "execution_count": 17,
      "outputs": [
        {
          "output_type": "stream",
          "name": "stdout",
          "text": [
            "       nome    cognome  voto esame di pozioni  voto esame di trasfigurazione  \\\n",
            "0      Luke  Skywalker                     28                             30   \n",
            "1      Leia     Organa                     30                             29   \n",
            "2     Bruce      Wayne                     25                             28   \n",
            "3      Tony      Stark                     27                             26   \n",
            "4     Diana     Prince                     29                             30   \n",
            "5     Clark       Kent                     30                             30   \n",
            "6     Peter     Parker                     24                             26   \n",
            "7      Arya      Stark                     26                             30   \n",
            "8   Sheldon     Cooper                     22                             23   \n",
            "9  Hermione    Granger                     30                             30   \n",
            "\n",
            "   voto di hacking  \n",
            "0               24  \n",
            "1               27  \n",
            "2               30  \n",
            "3               30  \n",
            "4               25  \n",
            "5               23  \n",
            "6               30  \n",
            "7               28  \n",
            "8               30  \n",
            "9               30  \n"
          ]
        }
      ]
    },
    {
      "cell_type": "code",
      "source": [
        "#ora provo a fare la media\n",
        "#dato.columns = dato.columns.str.strip()#mi permette di eliminare spazi extra\n",
        "considero = [\"voto esame di pozioni\",\"voto esame di trasfigurazione\", \"voto di hacking\"]\n",
        "\n",
        "media = dato[considero].mean()\n",
        "print(media)"
      ],
      "metadata": {
        "colab": {
          "base_uri": "https://localhost:8080/"
        },
        "id": "y9KQknaphTK_",
        "outputId": "cf77124b-675a-468b-d8d0-3fe3e68fbeae"
      },
      "execution_count": 24,
      "outputs": [
        {
          "output_type": "stream",
          "name": "stdout",
          "text": [
            "voto esame di pozioni            27.1\n",
            "voto esame di trasfigurazione    28.2\n",
            "voto di hacking                  27.7\n",
            "dtype: float64\n"
          ]
        }
      ]
    }
  ]
}